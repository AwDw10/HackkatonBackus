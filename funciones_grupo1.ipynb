{
 "cells": [
  {
   "cell_type": "code",
   "execution_count": 15,
   "metadata": {},
   "outputs": [],
   "source": [
    "import pandas as pd\n",
    "import numpy as np\n",
    "import copy"
   ]
  },
  {
   "cell_type": "code",
   "execution_count": 16,
   "metadata": {},
   "outputs": [],
   "source": [
    "fp_clients = '../data/clients_attributes.csv'\n",
    "\n",
    "df_clients = pd.read_csv(fp_clients, encoding='ISO-8859-1', sep=',')"
   ]
  },
  {
   "cell_type": "code",
   "execution_count": 17,
   "metadata": {},
   "outputs": [
    {
     "data": {
      "text/html": [
       "<div>\n",
       "<style scoped>\n",
       "    .dataframe tbody tr th:only-of-type {\n",
       "        vertical-align: middle;\n",
       "    }\n",
       "\n",
       "    .dataframe tbody tr th {\n",
       "        vertical-align: top;\n",
       "    }\n",
       "\n",
       "    .dataframe thead th {\n",
       "        text-align: right;\n",
       "    }\n",
       "</style>\n",
       "<table border=\"1\" class=\"dataframe\">\n",
       "  <thead>\n",
       "    <tr style=\"text-align: right;\">\n",
       "      <th></th>\n",
       "      <th>Cliente</th>\n",
       "      <th>FechaAltaCliente</th>\n",
       "      <th>Region</th>\n",
       "      <th>Gerencia</th>\n",
       "      <th>SubCanal</th>\n",
       "      <th>TipoPoblacion</th>\n",
       "      <th>Estrato</th>\n",
       "      <th>EF</th>\n",
       "    </tr>\n",
       "  </thead>\n",
       "  <tbody>\n",
       "    <tr>\n",
       "      <th>0</th>\n",
       "      <td>1</td>\n",
       "      <td>2009-03-03</td>\n",
       "      <td>4</td>\n",
       "      <td>21</td>\n",
       "      <td>12</td>\n",
       "      <td>1</td>\n",
       "      <td>1</td>\n",
       "      <td>1</td>\n",
       "    </tr>\n",
       "  </tbody>\n",
       "</table>\n",
       "</div>"
      ],
      "text/plain": [
       "   Cliente FechaAltaCliente  Region  Gerencia  SubCanal  TipoPoblacion  \\\n",
       "0        1       2009-03-03       4        21        12              1   \n",
       "\n",
       "   Estrato  EF  \n",
       "0        1   1  "
      ]
     },
     "execution_count": 17,
     "metadata": {},
     "output_type": "execute_result"
    }
   ],
   "source": [
    "df_clients.head(1)"
   ]
  },
  {
   "cell_type": "code",
   "execution_count": 18,
   "metadata": {},
   "outputs": [
    {
     "data": {
      "text/html": [
       "<div>\n",
       "<style scoped>\n",
       "    .dataframe tbody tr th:only-of-type {\n",
       "        vertical-align: middle;\n",
       "    }\n",
       "\n",
       "    .dataframe tbody tr th {\n",
       "        vertical-align: top;\n",
       "    }\n",
       "\n",
       "    .dataframe thead th {\n",
       "        text-align: right;\n",
       "    }\n",
       "</style>\n",
       "<table border=\"1\" class=\"dataframe\">\n",
       "  <thead>\n",
       "    <tr style=\"text-align: right;\">\n",
       "      <th></th>\n",
       "      <th>Region</th>\n",
       "      <th>num_clientes_Region</th>\n",
       "    </tr>\n",
       "  </thead>\n",
       "  <tbody>\n",
       "    <tr>\n",
       "      <th>0</th>\n",
       "      <td>1</td>\n",
       "      <td>3397</td>\n",
       "    </tr>\n",
       "  </tbody>\n",
       "</table>\n",
       "</div>"
      ],
      "text/plain": [
       "   Region  num_clientes_Region\n",
       "0       1                 3397"
      ]
     },
     "metadata": {},
     "output_type": "display_data"
    },
    {
     "data": {
      "text/html": [
       "<div>\n",
       "<style scoped>\n",
       "    .dataframe tbody tr th:only-of-type {\n",
       "        vertical-align: middle;\n",
       "    }\n",
       "\n",
       "    .dataframe tbody tr th {\n",
       "        vertical-align: top;\n",
       "    }\n",
       "\n",
       "    .dataframe thead th {\n",
       "        text-align: right;\n",
       "    }\n",
       "</style>\n",
       "<table border=\"1\" class=\"dataframe\">\n",
       "  <thead>\n",
       "    <tr style=\"text-align: right;\">\n",
       "      <th></th>\n",
       "      <th>Region</th>\n",
       "      <th>num_clientes_Region</th>\n",
       "      <th>prop_clientes_Region</th>\n",
       "    </tr>\n",
       "  </thead>\n",
       "  <tbody>\n",
       "    <tr>\n",
       "      <th>0</th>\n",
       "      <td>1</td>\n",
       "      <td>3397</td>\n",
       "      <td>0.225430</td>\n",
       "    </tr>\n",
       "    <tr>\n",
       "      <th>1</th>\n",
       "      <td>2</td>\n",
       "      <td>3</td>\n",
       "      <td>0.000199</td>\n",
       "    </tr>\n",
       "    <tr>\n",
       "      <th>2</th>\n",
       "      <td>3</td>\n",
       "      <td>4981</td>\n",
       "      <td>0.330546</td>\n",
       "    </tr>\n",
       "    <tr>\n",
       "      <th>3</th>\n",
       "      <td>4</td>\n",
       "      <td>3531</td>\n",
       "      <td>0.234322</td>\n",
       "    </tr>\n",
       "    <tr>\n",
       "      <th>4</th>\n",
       "      <td>5</td>\n",
       "      <td>3157</td>\n",
       "      <td>0.209503</td>\n",
       "    </tr>\n",
       "  </tbody>\n",
       "</table>\n",
       "</div>"
      ],
      "text/plain": [
       "   Region  num_clientes_Region  prop_clientes_Region\n",
       "0       1                 3397              0.225430\n",
       "1       2                    3              0.000199\n",
       "2       3                 4981              0.330546\n",
       "3       4                 3531              0.234322\n",
       "4       5                 3157              0.209503"
      ]
     },
     "metadata": {},
     "output_type": "display_data"
    }
   ],
   "source": [
    "col_variable = 'Region'\n",
    "df_g1 = df_clients.groupby([col_variable]).agg({\n",
    "  'FechaAltaCliente': 'count',\n",
    "}).reset_index()\n",
    "col_num_clientes = 'num_clientes_' + col_variable\n",
    "df_g1 = df_g1.rename(columns={'FechaAltaCliente': col_num_clientes})\n",
    "display(df_g1.head(1))\n",
    "numero_clientes = len(df_clients)\n",
    "col_proporcion_clientes = 'prop_clientes_' + col_variable\n",
    "df_g1[col_proporcion_clientes] = df_g1[col_num_clientes] / numero_clientes\n",
    "display(df_g1)"
   ]
  },
  {
   "cell_type": "code",
   "execution_count": 28,
   "metadata": {
    "scrolled": false
   },
   "outputs": [
    {
     "data": {
      "text/html": [
       "<div>\n",
       "<style scoped>\n",
       "    .dataframe tbody tr th:only-of-type {\n",
       "        vertical-align: middle;\n",
       "    }\n",
       "\n",
       "    .dataframe tbody tr th {\n",
       "        vertical-align: top;\n",
       "    }\n",
       "\n",
       "    .dataframe thead th {\n",
       "        text-align: right;\n",
       "    }\n",
       "</style>\n",
       "<table border=\"1\" class=\"dataframe\">\n",
       "  <thead>\n",
       "    <tr style=\"text-align: right;\">\n",
       "      <th></th>\n",
       "      <th>EF</th>\n",
       "      <th>num_clientes_EF</th>\n",
       "      <th>prop_clientes_EF</th>\n",
       "    </tr>\n",
       "  </thead>\n",
       "  <tbody>\n",
       "    <tr>\n",
       "      <th>0</th>\n",
       "      <td>0</td>\n",
       "      <td>9664</td>\n",
       "      <td>0.641317</td>\n",
       "    </tr>\n",
       "    <tr>\n",
       "      <th>1</th>\n",
       "      <td>1</td>\n",
       "      <td>5405</td>\n",
       "      <td>0.358683</td>\n",
       "    </tr>\n",
       "  </tbody>\n",
       "</table>\n",
       "</div>"
      ],
      "text/plain": [
       "   EF  num_clientes_EF  prop_clientes_EF\n",
       "0   0             9664          0.641317\n",
       "1   1             5405          0.358683"
      ]
     },
     "metadata": {},
     "output_type": "display_data"
    }
   ],
   "source": [
    "# A partir de la tabla de clientes obtener la cuenta y proporcion\n",
    "# de la col_variable\n",
    "#Region\tGerencia\tSubCanal\tTipoPoblacion\tEstrato\tEF\n",
    "def obtener_prop_num(df, col_variable):\n",
    "  \"\"\"\n",
    "  df: pd.Dataframe\n",
    "  col_variable: str\n",
    "  \"\"\"\n",
    "  # Copia: para asegurarnos que no modificamos df -> se debe hacer refactoring\n",
    "  c_df = copy.deepcopy(df)\n",
    "  # Cuenta de registros en tabla de clientes\n",
    "  numero_clientes = len(c_df)\n",
    "  \n",
    "  # Contamos registros por valor de col_variable\n",
    "  df_g1 = c_df.groupby([col_variable]).agg({\n",
    "    'FechaAltaCliente': 'count',\n",
    "  }).reset_index()\n",
    "  \n",
    "  # Creamos nombre de la columna donde se almacena el numero de clientes\n",
    "  col_num_clientes = 'num_clientes_' + col_variable\n",
    "  # Renombrar columna donde se almacena el numero de clientes\n",
    "  df_g1 = df_g1.rename(columns={'FechaAltaCliente': col_num_clientes})\n",
    "  # Creamos nombre de la columna donde se almacena la proporcion de clientes\n",
    "  col_proporcion_clientes = 'prop_clientes_' + col_variable\n",
    "  # Agregamos columna que almacena informacion de propocion de clientes \n",
    "  df_g1[col_proporcion_clientes] = df_g1[col_num_clientes] / numero_clientes\n",
    "  \n",
    "  return df_g1\n",
    "\n",
    "df_test1 = obtener_prop_num(df_clients, 'EF')\n",
    "display(df_test1)"
   ]
  },
  {
   "cell_type": "code",
   "execution_count": null,
   "metadata": {},
   "outputs": [],
   "source": []
  },
  {
   "cell_type": "code",
   "execution_count": null,
   "metadata": {},
   "outputs": [],
   "source": []
  },
  {
   "cell_type": "code",
   "execution_count": null,
   "metadata": {},
   "outputs": [],
   "source": []
  },
  {
   "cell_type": "code",
   "execution_count": null,
   "metadata": {},
   "outputs": [],
   "source": []
  }
 ],
 "metadata": {
  "kernelspec": {
   "display_name": "Python 3",
   "language": "python",
   "name": "python3"
  },
  "language_info": {
   "codemirror_mode": {
    "name": "ipython",
    "version": 3
   },
   "file_extension": ".py",
   "mimetype": "text/x-python",
   "name": "python",
   "nbconvert_exporter": "python",
   "pygments_lexer": "ipython3",
   "version": "3.8.2"
  }
 },
 "nbformat": 4,
 "nbformat_minor": 4
}
