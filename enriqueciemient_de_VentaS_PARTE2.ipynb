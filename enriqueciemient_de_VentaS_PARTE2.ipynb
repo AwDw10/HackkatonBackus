{
 "cells": [
  {
   "cell_type": "code",
   "execution_count": 10,
   "metadata": {},
   "outputs": [],
   "source": [
    "import pandas as pd\n",
    "import numpy as np\n",
    "import copy\n",
    "from datetime import datetime\n",
    "import pickle \n",
    "import xgboost as xgb\n",
    "from sklearn.ensemble import RandomForestClassifier\n",
    "from sklearn.model_selection import train_test_split, StratifiedKFold\n",
    "from sklearn.model_selection import RandomizedSearchCV, RepeatedStratifiedKFold, cross_val_score\n",
    "from sklearn.metrics import mean_squared_error, roc_auc_score\n",
    "import ubjson\n",
    "\n",
    "\n",
    "from sklearn.model_selection import GridSearchCV\n",
    "import gzip\n",
    "\n",
    "\n",
    "import lightgbm as lgb\n",
    "\n",
    "pd.options.display.max_columns = 200\n",
    "pd.options.display.max_rows = 200"
   ]
  },
  {
   "cell_type": "code",
   "execution_count": 11,
   "metadata": {},
   "outputs": [],
   "source": [
    "fp_active_promos = '../data/active_promos.csv'\n",
    "fp_clients = '../data/clients_attributes.csv'\n",
    "fp_executed_promos = '../data/executed_promos.csv'\n",
    "fp_sales = '../data/sales.csv'\n",
    "fp_test = '../data/test.csv'\n",
    "\n",
    "df_active_promos = pd.read_csv(fp_active_promos, encoding='ISO-8859-1', sep=',')\n",
    "df_clients = pd.read_csv(fp_clients, encoding='ISO-8859-1', sep=',')\n",
    "df_executed_promos = pd.read_csv(fp_executed_promos, encoding='ISO-8859-1', sep=',')\n",
    "df_sales = pd.read_csv(fp_sales, encoding='ISO-8859-1', sep=',')\n",
    "df_test = pd.read_csv(fp_test, encoding='ISO-8859-1', sep=',')"
   ]
  },
  {
   "cell_type": "code",
   "execution_count": 12,
   "metadata": {},
   "outputs": [
    {
     "name": "stdout",
     "output_type": "stream",
     "text": [
      "Active promos\n",
      "422437\n"
     ]
    },
    {
     "data": {
      "text/html": [
       "<div>\n",
       "<style scoped>\n",
       "    .dataframe tbody tr th:only-of-type {\n",
       "        vertical-align: middle;\n",
       "    }\n",
       "\n",
       "    .dataframe tbody tr th {\n",
       "        vertical-align: top;\n",
       "    }\n",
       "\n",
       "    .dataframe thead th {\n",
       "        text-align: right;\n",
       "    }\n",
       "</style>\n",
       "<table border=\"1\" class=\"dataframe\">\n",
       "  <thead>\n",
       "    <tr style=\"text-align: right;\">\n",
       "      <th></th>\n",
       "      <th>CodigoDC</th>\n",
       "      <th>Marca</th>\n",
       "      <th>Cupo</th>\n",
       "      <th>Fecha_Desde</th>\n",
       "      <th>Fecha_Hasta</th>\n",
       "      <th>Cliente</th>\n",
       "    </tr>\n",
       "  </thead>\n",
       "  <tbody>\n",
       "    <tr>\n",
       "      <th>0</th>\n",
       "      <td>297601</td>\n",
       "      <td>29</td>\n",
       "      <td>9</td>\n",
       "      <td>2018-08-06</td>\n",
       "      <td>2018-08-30</td>\n",
       "      <td>3213</td>\n",
       "    </tr>\n",
       "  </tbody>\n",
       "</table>\n",
       "</div>"
      ],
      "text/plain": [
       "   CodigoDC  Marca  Cupo Fecha_Desde Fecha_Hasta  Cliente\n",
       "0    297601     29     9  2018-08-06  2018-08-30     3213"
      ]
     },
     "metadata": {},
     "output_type": "display_data"
    },
    {
     "name": "stdout",
     "output_type": "stream",
     "text": [
      "################################################################################\n",
      "Clients\n",
      "15069\n"
     ]
    },
    {
     "data": {
      "text/html": [
       "<div>\n",
       "<style scoped>\n",
       "    .dataframe tbody tr th:only-of-type {\n",
       "        vertical-align: middle;\n",
       "    }\n",
       "\n",
       "    .dataframe tbody tr th {\n",
       "        vertical-align: top;\n",
       "    }\n",
       "\n",
       "    .dataframe thead th {\n",
       "        text-align: right;\n",
       "    }\n",
       "</style>\n",
       "<table border=\"1\" class=\"dataframe\">\n",
       "  <thead>\n",
       "    <tr style=\"text-align: right;\">\n",
       "      <th></th>\n",
       "      <th>Cliente</th>\n",
       "      <th>FechaAltaCliente</th>\n",
       "      <th>Region</th>\n",
       "      <th>Gerencia</th>\n",
       "      <th>SubCanal</th>\n",
       "      <th>TipoPoblacion</th>\n",
       "      <th>Estrato</th>\n",
       "      <th>EF</th>\n",
       "    </tr>\n",
       "  </thead>\n",
       "  <tbody>\n",
       "    <tr>\n",
       "      <th>0</th>\n",
       "      <td>1</td>\n",
       "      <td>2009-03-03</td>\n",
       "      <td>4</td>\n",
       "      <td>21</td>\n",
       "      <td>12</td>\n",
       "      <td>1</td>\n",
       "      <td>1</td>\n",
       "      <td>1</td>\n",
       "    </tr>\n",
       "  </tbody>\n",
       "</table>\n",
       "</div>"
      ],
      "text/plain": [
       "   Cliente FechaAltaCliente  Region  Gerencia  SubCanal  TipoPoblacion  \\\n",
       "0        1       2009-03-03       4        21        12              1   \n",
       "\n",
       "   Estrato  EF  \n",
       "0        1   1  "
      ]
     },
     "metadata": {},
     "output_type": "display_data"
    },
    {
     "name": "stdout",
     "output_type": "stream",
     "text": [
      "################################################################################\n",
      "Executed promos\n",
      "27794\n"
     ]
    },
    {
     "data": {
      "text/html": [
       "<div>\n",
       "<style scoped>\n",
       "    .dataframe tbody tr th:only-of-type {\n",
       "        vertical-align: middle;\n",
       "    }\n",
       "\n",
       "    .dataframe tbody tr th {\n",
       "        vertical-align: top;\n",
       "    }\n",
       "\n",
       "    .dataframe thead th {\n",
       "        text-align: right;\n",
       "    }\n",
       "</style>\n",
       "<table border=\"1\" class=\"dataframe\">\n",
       "  <thead>\n",
       "    <tr style=\"text-align: right;\">\n",
       "      <th></th>\n",
       "      <th>CodigoDC</th>\n",
       "      <th>Cliente</th>\n",
       "      <th>Marca</th>\n",
       "      <th>Cupo</th>\n",
       "    </tr>\n",
       "  </thead>\n",
       "  <tbody>\n",
       "    <tr>\n",
       "      <th>0</th>\n",
       "      <td>297601</td>\n",
       "      <td>8410</td>\n",
       "      <td>29</td>\n",
       "      <td>9</td>\n",
       "    </tr>\n",
       "  </tbody>\n",
       "</table>\n",
       "</div>"
      ],
      "text/plain": [
       "   CodigoDC  Cliente  Marca  Cupo\n",
       "0    297601     8410     29     9"
      ]
     },
     "metadata": {},
     "output_type": "display_data"
    },
    {
     "name": "stdout",
     "output_type": "stream",
     "text": [
      "################################################################################\n",
      "Sales\n",
      "1894252\n"
     ]
    },
    {
     "data": {
      "text/html": [
       "<div>\n",
       "<style scoped>\n",
       "    .dataframe tbody tr th:only-of-type {\n",
       "        vertical-align: middle;\n",
       "    }\n",
       "\n",
       "    .dataframe tbody tr th {\n",
       "        vertical-align: top;\n",
       "    }\n",
       "\n",
       "    .dataframe thead th {\n",
       "        text-align: right;\n",
       "    }\n",
       "</style>\n",
       "<table border=\"1\" class=\"dataframe\">\n",
       "  <thead>\n",
       "    <tr style=\"text-align: right;\">\n",
       "      <th></th>\n",
       "      <th>Cliente</th>\n",
       "      <th>Año</th>\n",
       "      <th>Mes</th>\n",
       "      <th>ClaseEnvase</th>\n",
       "      <th>SegmentoPrecio</th>\n",
       "      <th>Marca</th>\n",
       "      <th>Cupo</th>\n",
       "      <th>Nr</th>\n",
       "      <th>Hl</th>\n",
       "      <th>Dcto</th>\n",
       "    </tr>\n",
       "  </thead>\n",
       "  <tbody>\n",
       "    <tr>\n",
       "      <th>0</th>\n",
       "      <td>1</td>\n",
       "      <td>2018</td>\n",
       "      <td>1</td>\n",
       "      <td>2</td>\n",
       "      <td>2.0</td>\n",
       "      <td>44</td>\n",
       "      <td>10.0</td>\n",
       "      <td>6352.94</td>\n",
       "      <td>0.03</td>\n",
       "      <td>0.0</td>\n",
       "    </tr>\n",
       "  </tbody>\n",
       "</table>\n",
       "</div>"
      ],
      "text/plain": [
       "   Cliente   Año  Mes  ClaseEnvase  SegmentoPrecio  Marca  Cupo       Nr  \\\n",
       "0        1  2018    1            2             2.0     44  10.0  6352.94   \n",
       "\n",
       "     Hl  Dcto  \n",
       "0  0.03   0.0  "
      ]
     },
     "metadata": {},
     "output_type": "display_data"
    },
    {
     "name": "stdout",
     "output_type": "stream",
     "text": [
      "################################################################################\n",
      "Test\n",
      "16870\n"
     ]
    },
    {
     "data": {
      "text/html": [
       "<div>\n",
       "<style scoped>\n",
       "    .dataframe tbody tr th:only-of-type {\n",
       "        vertical-align: middle;\n",
       "    }\n",
       "\n",
       "    .dataframe tbody tr th {\n",
       "        vertical-align: top;\n",
       "    }\n",
       "\n",
       "    .dataframe thead th {\n",
       "        text-align: right;\n",
       "    }\n",
       "</style>\n",
       "<table border=\"1\" class=\"dataframe\">\n",
       "  <thead>\n",
       "    <tr style=\"text-align: right;\">\n",
       "      <th></th>\n",
       "      <th>Cliente</th>\n",
       "      <th>Marca</th>\n",
       "      <th>Cupo</th>\n",
       "      <th>Ejecuto_Promo</th>\n",
       "    </tr>\n",
       "  </thead>\n",
       "  <tbody>\n",
       "    <tr>\n",
       "      <th>0</th>\n",
       "      <td>10</td>\n",
       "      <td>40</td>\n",
       "      <td>16</td>\n",
       "      <td>NaN</td>\n",
       "    </tr>\n",
       "  </tbody>\n",
       "</table>\n",
       "</div>"
      ],
      "text/plain": [
       "   Cliente  Marca  Cupo  Ejecuto_Promo\n",
       "0       10     40    16            NaN"
      ]
     },
     "metadata": {},
     "output_type": "display_data"
    },
    {
     "name": "stdout",
     "output_type": "stream",
     "text": [
      "################################################################################\n"
     ]
    }
   ],
   "source": [
    "def extra_head(df, name):\n",
    "    print(name)\n",
    "    print(len(df))\n",
    "    display(df.head(1))\n",
    "    print(\"#\"*80)\n",
    "extra_head(df_active_promos, \"Active promos\")\n",
    "extra_head(df_clients, \"Clients\")\n",
    "extra_head(df_executed_promos, \"Executed promos\")\n",
    "extra_head(df_sales, \"Sales\")\n",
    "extra_head(df_test, \"Test\")"
   ]
  },
  {
   "cell_type": "code",
   "execution_count": 13,
   "metadata": {},
   "outputs": [
    {
     "data": {
      "text/html": [
       "<div>\n",
       "<style scoped>\n",
       "    .dataframe tbody tr th:only-of-type {\n",
       "        vertical-align: middle;\n",
       "    }\n",
       "\n",
       "    .dataframe tbody tr th {\n",
       "        vertical-align: top;\n",
       "    }\n",
       "\n",
       "    .dataframe thead th {\n",
       "        text-align: right;\n",
       "    }\n",
       "</style>\n",
       "<table border=\"1\" class=\"dataframe\">\n",
       "  <thead>\n",
       "    <tr style=\"text-align: right;\">\n",
       "      <th></th>\n",
       "      <th>Cliente</th>\n",
       "      <th>Año</th>\n",
       "      <th>Mes</th>\n",
       "      <th>ClaseEnvase</th>\n",
       "      <th>SegmentoPrecio</th>\n",
       "      <th>Marca</th>\n",
       "      <th>Cupo</th>\n",
       "      <th>Nr</th>\n",
       "      <th>Hl</th>\n",
       "      <th>Dcto</th>\n",
       "    </tr>\n",
       "  </thead>\n",
       "  <tbody>\n",
       "    <tr>\n",
       "      <th>0</th>\n",
       "      <td>1</td>\n",
       "      <td>2018</td>\n",
       "      <td>1</td>\n",
       "      <td>2</td>\n",
       "      <td>2.0</td>\n",
       "      <td>44</td>\n",
       "      <td>10.0</td>\n",
       "      <td>6352.94</td>\n",
       "      <td>0.03</td>\n",
       "      <td>0.0</td>\n",
       "    </tr>\n",
       "  </tbody>\n",
       "</table>\n",
       "</div>"
      ],
      "text/plain": [
       "   Cliente   Año  Mes  ClaseEnvase  SegmentoPrecio  Marca  Cupo       Nr  \\\n",
       "0        1  2018    1            2             2.0     44  10.0  6352.94   \n",
       "\n",
       "     Hl  Dcto  \n",
       "0  0.03   0.0  "
      ]
     },
     "execution_count": 13,
     "metadata": {},
     "output_type": "execute_result"
    }
   ],
   "source": [
    "df_sales.head(1)"
   ]
  },
  {
   "cell_type": "code",
   "execution_count": 14,
   "metadata": {},
   "outputs": [
    {
     "data": {
      "text/plain": [
       "Cliente           0\n",
       "Año               0\n",
       "Mes               0\n",
       "ClaseEnvase       0\n",
       "SegmentoPrecio    5\n",
       "Marca             0\n",
       "Cupo              5\n",
       "Nr                0\n",
       "Hl                0\n",
       "Dcto              0\n",
       "dtype: int64"
      ]
     },
     "execution_count": 14,
     "metadata": {},
     "output_type": "execute_result"
    }
   ],
   "source": [
    "df_sales.isna().sum()"
   ]
  },
  {
   "cell_type": "code",
   "execution_count": null,
   "metadata": {},
   "outputs": [],
   "source": []
  },
  {
   "cell_type": "code",
   "execution_count": 15,
   "metadata": {},
   "outputs": [],
   "source": [
    "df_sales = df_sales.dropna()"
   ]
  },
  {
   "cell_type": "code",
   "execution_count": 16,
   "metadata": {},
   "outputs": [
    {
     "data": {
      "text/html": [
       "<div>\n",
       "<style scoped>\n",
       "    .dataframe tbody tr th:only-of-type {\n",
       "        vertical-align: middle;\n",
       "    }\n",
       "\n",
       "    .dataframe tbody tr th {\n",
       "        vertical-align: top;\n",
       "    }\n",
       "\n",
       "    .dataframe thead th {\n",
       "        text-align: right;\n",
       "    }\n",
       "</style>\n",
       "<table border=\"1\" class=\"dataframe\">\n",
       "  <thead>\n",
       "    <tr style=\"text-align: right;\">\n",
       "      <th></th>\n",
       "      <th>Cliente</th>\n",
       "      <th>Año</th>\n",
       "      <th>Mes</th>\n",
       "      <th>ClaseEnvase</th>\n",
       "      <th>SegmentoPrecio</th>\n",
       "      <th>Marca</th>\n",
       "      <th>Cupo</th>\n",
       "      <th>Nr</th>\n",
       "      <th>Hl</th>\n",
       "      <th>Dcto</th>\n",
       "    </tr>\n",
       "  </thead>\n",
       "  <tbody>\n",
       "    <tr>\n",
       "      <th>0</th>\n",
       "      <td>1</td>\n",
       "      <td>2018</td>\n",
       "      <td>01</td>\n",
       "      <td>2</td>\n",
       "      <td>2.0</td>\n",
       "      <td>44</td>\n",
       "      <td>10.0</td>\n",
       "      <td>6352.94</td>\n",
       "      <td>0.03</td>\n",
       "      <td>0.0</td>\n",
       "    </tr>\n",
       "  </tbody>\n",
       "</table>\n",
       "</div>"
      ],
      "text/plain": [
       "   Cliente   Año Mes  ClaseEnvase  SegmentoPrecio  Marca  Cupo       Nr    Hl  \\\n",
       "0        1  2018  01            2             2.0     44  10.0  6352.94  0.03   \n",
       "\n",
       "   Dcto  \n",
       "0   0.0  "
      ]
     },
     "execution_count": 16,
     "metadata": {},
     "output_type": "execute_result"
    }
   ],
   "source": [
    "#Convertir anio, mes a string\n",
    "df_sales['Año'] = df_sales['Año'].astype(str)\n",
    "df_sales['Mes'] = df_sales['Mes'].astype(str)\n",
    "df_sales[\"Mes\"] = df_sales['Mes'].str.zfill(width=2)\n",
    "df_sales.head(1)"
   ]
  },
  {
   "cell_type": "code",
   "execution_count": 18,
   "metadata": {
    "scrolled": true
   },
   "outputs": [
    {
     "data": {
      "text/html": [
       "<div>\n",
       "<style scoped>\n",
       "    .dataframe tbody tr th:only-of-type {\n",
       "        vertical-align: middle;\n",
       "    }\n",
       "\n",
       "    .dataframe tbody tr th {\n",
       "        vertical-align: top;\n",
       "    }\n",
       "\n",
       "    .dataframe thead th {\n",
       "        text-align: right;\n",
       "    }\n",
       "</style>\n",
       "<table border=\"1\" class=\"dataframe\">\n",
       "  <thead>\n",
       "    <tr style=\"text-align: right;\">\n",
       "      <th></th>\n",
       "      <th>Cliente</th>\n",
       "      <th>Año</th>\n",
       "      <th>Mes</th>\n",
       "      <th>ClaseEnvase</th>\n",
       "      <th>SegmentoPrecio</th>\n",
       "      <th>Marca</th>\n",
       "      <th>Cupo</th>\n",
       "      <th>Nr</th>\n",
       "      <th>Hl</th>\n",
       "      <th>Dcto</th>\n",
       "      <th>periodo</th>\n",
       "      <th>month_year</th>\n",
       "    </tr>\n",
       "  </thead>\n",
       "  <tbody>\n",
       "    <tr>\n",
       "      <th>0</th>\n",
       "      <td>1</td>\n",
       "      <td>2018</td>\n",
       "      <td>01</td>\n",
       "      <td>2</td>\n",
       "      <td>2.0</td>\n",
       "      <td>44</td>\n",
       "      <td>10.0</td>\n",
       "      <td>6352.94</td>\n",
       "      <td>0.03</td>\n",
       "      <td>0.0</td>\n",
       "      <td>2018-01-01</td>\n",
       "      <td>2018-01</td>\n",
       "    </tr>\n",
       "    <tr>\n",
       "      <th>1</th>\n",
       "      <td>1</td>\n",
       "      <td>2018</td>\n",
       "      <td>01</td>\n",
       "      <td>2</td>\n",
       "      <td>4.0</td>\n",
       "      <td>18</td>\n",
       "      <td>16.0</td>\n",
       "      <td>99130.50</td>\n",
       "      <td>0.45</td>\n",
       "      <td>0.0</td>\n",
       "      <td>2018-01-01</td>\n",
       "      <td>2018-01</td>\n",
       "    </tr>\n",
       "    <tr>\n",
       "      <th>2</th>\n",
       "      <td>1</td>\n",
       "      <td>2018</td>\n",
       "      <td>06</td>\n",
       "      <td>2</td>\n",
       "      <td>1.0</td>\n",
       "      <td>2</td>\n",
       "      <td>6.0</td>\n",
       "      <td>11605.40</td>\n",
       "      <td>0.07</td>\n",
       "      <td>-2880.0</td>\n",
       "      <td>2018-06-01</td>\n",
       "      <td>2018-06</td>\n",
       "    </tr>\n",
       "    <tr>\n",
       "      <th>3</th>\n",
       "      <td>1</td>\n",
       "      <td>2018</td>\n",
       "      <td>07</td>\n",
       "      <td>1</td>\n",
       "      <td>2.0</td>\n",
       "      <td>37</td>\n",
       "      <td>34.0</td>\n",
       "      <td>1944.01</td>\n",
       "      <td>0.01</td>\n",
       "      <td>0.0</td>\n",
       "      <td>2018-07-01</td>\n",
       "      <td>2018-07</td>\n",
       "    </tr>\n",
       "    <tr>\n",
       "      <th>4</th>\n",
       "      <td>1</td>\n",
       "      <td>2018</td>\n",
       "      <td>08</td>\n",
       "      <td>2</td>\n",
       "      <td>1.0</td>\n",
       "      <td>2</td>\n",
       "      <td>16.0</td>\n",
       "      <td>16250.18</td>\n",
       "      <td>0.06</td>\n",
       "      <td>0.0</td>\n",
       "      <td>2018-08-01</td>\n",
       "      <td>2018-08</td>\n",
       "    </tr>\n",
       "  </tbody>\n",
       "</table>\n",
       "</div>"
      ],
      "text/plain": [
       "   Cliente   Año Mes  ClaseEnvase  SegmentoPrecio  Marca  Cupo        Nr  \\\n",
       "0        1  2018  01            2             2.0     44  10.0   6352.94   \n",
       "1        1  2018  01            2             4.0     18  16.0  99130.50   \n",
       "2        1  2018  06            2             1.0      2   6.0  11605.40   \n",
       "3        1  2018  07            1             2.0     37  34.0   1944.01   \n",
       "4        1  2018  08            2             1.0      2  16.0  16250.18   \n",
       "\n",
       "     Hl    Dcto    periodo month_year  \n",
       "0  0.03     0.0 2018-01-01    2018-01  \n",
       "1  0.45     0.0 2018-01-01    2018-01  \n",
       "2  0.07 -2880.0 2018-06-01    2018-06  \n",
       "3  0.01     0.0 2018-07-01    2018-07  \n",
       "4  0.06     0.0 2018-08-01    2018-08  "
      ]
     },
     "execution_count": 18,
     "metadata": {},
     "output_type": "execute_result"
    }
   ],
   "source": [
    "# Unir Anio, Mes en una columna datetime\n",
    "df_sales['periodo'] = pd.to_datetime([f'{y}-{m}-01' for y, m in zip(df_sales[\"Año\"], df_sales.Mes)])\n",
    "df_sales['month_year'] = df_sales['periodo'].dt.to_period('M')\n",
    "df_sales.head(5)"
   ]
  },
  {
   "cell_type": "code",
   "execution_count": 21,
   "metadata": {},
   "outputs": [
    {
     "data": {
      "text/html": [
       "<div>\n",
       "<style scoped>\n",
       "    .dataframe tbody tr th:only-of-type {\n",
       "        vertical-align: middle;\n",
       "    }\n",
       "\n",
       "    .dataframe tbody tr th {\n",
       "        vertical-align: top;\n",
       "    }\n",
       "\n",
       "    .dataframe thead th {\n",
       "        text-align: right;\n",
       "    }\n",
       "</style>\n",
       "<table border=\"1\" class=\"dataframe\">\n",
       "  <thead>\n",
       "    <tr style=\"text-align: right;\">\n",
       "      <th></th>\n",
       "      <th>ClaseEnvase</th>\n",
       "      <th>SegmentoPrecio</th>\n",
       "      <th>Marca</th>\n",
       "      <th>Cupo</th>\n",
       "      <th>Nr</th>\n",
       "      <th>Hl</th>\n",
       "      <th>Dcto</th>\n",
       "      <th>month_year</th>\n",
       "    </tr>\n",
       "  </thead>\n",
       "  <tbody>\n",
       "    <tr>\n",
       "      <th>0</th>\n",
       "      <td>2</td>\n",
       "      <td>2.0</td>\n",
       "      <td>44</td>\n",
       "      <td>10.0</td>\n",
       "      <td>6352.94</td>\n",
       "      <td>0.03</td>\n",
       "      <td>0.0</td>\n",
       "      <td>2018-01</td>\n",
       "    </tr>\n",
       "  </tbody>\n",
       "</table>\n",
       "</div>"
      ],
      "text/plain": [
       "   ClaseEnvase  SegmentoPrecio  Marca  Cupo       Nr    Hl  Dcto month_year\n",
       "0            2             2.0     44  10.0  6352.94  0.03   0.0    2018-01"
      ]
     },
     "execution_count": 21,
     "metadata": {},
     "output_type": "execute_result"
    }
   ],
   "source": [
    "df_sales_mini = df_sales[['ClaseEnvase', 'SegmentoPrecio', 'Marca', 'Cupo', 'Nr', 'Hl',\n",
    "                         'Dcto', 'month_year']]\n",
    "df_sales_mini.head(1)"
   ]
  },
  {
   "cell_type": "code",
   "execution_count": 22,
   "metadata": {},
   "outputs": [
    {
     "data": {
      "text/plain": [
       "ClaseEnvase           int64\n",
       "SegmentoPrecio      float64\n",
       "Marca                 int64\n",
       "Cupo                float64\n",
       "Nr                  float64\n",
       "Hl                  float64\n",
       "Dcto                float64\n",
       "month_year        period[M]\n",
       "dtype: object"
      ]
     },
     "execution_count": 22,
     "metadata": {},
     "output_type": "execute_result"
    }
   ],
   "source": [
    "df_sales_mini.dtypes"
   ]
  },
  {
   "cell_type": "code",
   "execution_count": 23,
   "metadata": {},
   "outputs": [
    {
     "data": {
      "text/plain": [
       "array([2, 1])"
      ]
     },
     "execution_count": 23,
     "metadata": {},
     "output_type": "execute_result"
    }
   ],
   "source": [
    "df_sales_mini['ClaseEnvase'].unique()"
   ]
  },
  {
   "cell_type": "code",
   "execution_count": 24,
   "metadata": {},
   "outputs": [
    {
     "data": {
      "text/plain": [
       "array([2., 4., 1., 3.])"
      ]
     },
     "execution_count": 24,
     "metadata": {},
     "output_type": "execute_result"
    }
   ],
   "source": [
    "df_sales_mini['SegmentoPrecio'].unique()"
   ]
  },
  {
   "cell_type": "markdown",
   "metadata": {},
   "source": [
    "# PRIMER ACUMULADO"
   ]
  },
  {
   "cell_type": "code",
   "execution_count": 58,
   "metadata": {},
   "outputs": [
    {
     "data": {
      "text/html": [
       "<div>\n",
       "<style scoped>\n",
       "    .dataframe tbody tr th:only-of-type {\n",
       "        vertical-align: middle;\n",
       "    }\n",
       "\n",
       "    .dataframe tbody tr th {\n",
       "        vertical-align: top;\n",
       "    }\n",
       "\n",
       "    .dataframe thead th {\n",
       "        text-align: right;\n",
       "    }\n",
       "</style>\n",
       "<table border=\"1\" class=\"dataframe\">\n",
       "  <thead>\n",
       "    <tr style=\"text-align: right;\">\n",
       "      <th></th>\n",
       "      <th>Marca</th>\n",
       "      <th>Cupo</th>\n",
       "      <th>month_year</th>\n",
       "      <th>Nr_MCsum</th>\n",
       "      <th>Nr_MCmean</th>\n",
       "      <th>Hl_MCsum</th>\n",
       "      <th>Hl_MCmean</th>\n",
       "      <th>Dcto_MCsum</th>\n",
       "      <th>Dcto_MCmean</th>\n",
       "    </tr>\n",
       "  </thead>\n",
       "  <tbody>\n",
       "    <tr>\n",
       "      <th>0</th>\n",
       "      <td>1</td>\n",
       "      <td>30.0</td>\n",
       "      <td>2019-08</td>\n",
       "      <td>176028.75</td>\n",
       "      <td>3826.711957</td>\n",
       "      <td>1.51</td>\n",
       "      <td>0.032826</td>\n",
       "      <td>-57971.25</td>\n",
       "      <td>-1260.244565</td>\n",
       "    </tr>\n",
       "  </tbody>\n",
       "</table>\n",
       "</div>"
      ],
      "text/plain": [
       "   Marca  Cupo month_year   Nr_MCsum    Nr_MCmean  Hl_MCsum  Hl_MCmean  \\\n",
       "0      1  30.0    2019-08  176028.75  3826.711957      1.51   0.032826   \n",
       "\n",
       "   Dcto_MCsum  Dcto_MCmean  \n",
       "0   -57971.25 -1260.244565  "
      ]
     },
     "execution_count": 58,
     "metadata": {},
     "output_type": "execute_result"
    }
   ],
   "source": [
    "df_enr_1 = df_sales_mini.groupby(['Marca', 'Cupo', 'month_year']).agg({\n",
    "  'Nr': [np.sum, np.mean],\n",
    "  'Hl': [np.sum, np.mean],\n",
    "  'Dcto': [np.sum, np.mean],\n",
    "})\n",
    "df_enr_1.columns = ['_MC'.join(col).strip() for col in df_enr_1.columns.values]\n",
    "df_enr_1 = df_enr_1.reset_index()\n",
    "df_enr_1.head(1)"
   ]
  },
  {
   "cell_type": "code",
   "execution_count": 60,
   "metadata": {},
   "outputs": [],
   "source": [
    "import pickle\n",
    "\n",
    "def store_pickle(fp, obj):\n",
    "  with open(fp, 'wb') as f:\n",
    "    pickle.dump(obj, f)\n",
    "    \n",
    "fp_output = '../tablones/ventas_mc_new_1.pkl'    \n",
    "store_pickle(fp_output, df_enr_1)"
   ]
  },
  {
   "cell_type": "code",
   "execution_count": 59,
   "metadata": {},
   "outputs": [
    {
     "data": {
      "text/plain": [
       "1808"
      ]
     },
     "execution_count": 59,
     "metadata": {},
     "output_type": "execute_result"
    }
   ],
   "source": [
    "len(df_enr_1)"
   ]
  },
  {
   "cell_type": "markdown",
   "metadata": {},
   "source": [
    "# SEGUNDO ACUMULADO"
   ]
  },
  {
   "cell_type": "code",
   "execution_count": 34,
   "metadata": {},
   "outputs": [
    {
     "data": {
      "text/html": [
       "<div>\n",
       "<style scoped>\n",
       "    .dataframe tbody tr th:only-of-type {\n",
       "        vertical-align: middle;\n",
       "    }\n",
       "\n",
       "    .dataframe tbody tr th {\n",
       "        vertical-align: top;\n",
       "    }\n",
       "\n",
       "    .dataframe thead th {\n",
       "        text-align: right;\n",
       "    }\n",
       "</style>\n",
       "<table border=\"1\" class=\"dataframe\">\n",
       "  <thead>\n",
       "    <tr style=\"text-align: right;\">\n",
       "      <th></th>\n",
       "      <th>ClaseEnvase</th>\n",
       "      <th>SegmentoPrecio</th>\n",
       "      <th>Marca</th>\n",
       "      <th>Cupo</th>\n",
       "      <th>month_year</th>\n",
       "    </tr>\n",
       "  </thead>\n",
       "  <tbody>\n",
       "    <tr>\n",
       "      <th>0</th>\n",
       "      <td>2</td>\n",
       "      <td>2.0</td>\n",
       "      <td>44</td>\n",
       "      <td>10.0</td>\n",
       "      <td>2018-01</td>\n",
       "    </tr>\n",
       "  </tbody>\n",
       "</table>\n",
       "</div>"
      ],
      "text/plain": [
       "   ClaseEnvase  SegmentoPrecio  Marca  Cupo month_year\n",
       "0            2             2.0     44  10.0    2018-01"
      ]
     },
     "execution_count": 34,
     "metadata": {},
     "output_type": "execute_result"
    }
   ],
   "source": [
    "df_sales_mini_2 = df_sales_mini[['ClaseEnvase', 'SegmentoPrecio', 'Marca', 'Cupo', 'month_year']]\n",
    "df_sales_mini_2.head(1)"
   ]
  },
  {
   "cell_type": "code",
   "execution_count": 51,
   "metadata": {},
   "outputs": [
    {
     "name": "stdout",
     "output_type": "stream",
     "text": [
      "0\n"
     ]
    },
    {
     "data": {
      "text/html": [
       "<div>\n",
       "<style scoped>\n",
       "    .dataframe tbody tr th:only-of-type {\n",
       "        vertical-align: middle;\n",
       "    }\n",
       "\n",
       "    .dataframe tbody tr th {\n",
       "        vertical-align: top;\n",
       "    }\n",
       "\n",
       "    .dataframe thead th {\n",
       "        text-align: right;\n",
       "    }\n",
       "</style>\n",
       "<table border=\"1\" class=\"dataframe\">\n",
       "  <thead>\n",
       "    <tr style=\"text-align: right;\">\n",
       "      <th>ClaseEnvase</th>\n",
       "      <th>month_year</th>\n",
       "      <th>Marca</th>\n",
       "      <th>Cupo</th>\n",
       "      <th>ClaseEnvase_1_sales</th>\n",
       "      <th>ClaseEnvase2_sales</th>\n",
       "    </tr>\n",
       "  </thead>\n",
       "  <tbody>\n",
       "    <tr>\n",
       "      <th>0</th>\n",
       "      <td>2018-01</td>\n",
       "      <td>2</td>\n",
       "      <td>5.0</td>\n",
       "      <td>0</td>\n",
       "      <td>1</td>\n",
       "    </tr>\n",
       "  </tbody>\n",
       "</table>\n",
       "</div>"
      ],
      "text/plain": [
       "ClaseEnvase month_year  Marca  Cupo  ClaseEnvase_1_sales  ClaseEnvase2_sales\n",
       "0              2018-01      2   5.0                    0                   1"
      ]
     },
     "metadata": {},
     "output_type": "display_data"
    }
   ],
   "source": [
    "df_extra_1 = df_sales_mini_2\\\n",
    "  .groupby(['month_year', 'Marca', 'Cupo', 'ClaseEnvase'])\\\n",
    "  .size().unstack(fill_value=0)\\\n",
    "  .reset_index()\n",
    "df_extra_1 = df_extra_1.rename(columns={1 : 'ClaseEnvase_1_sales', 2: 'ClaseEnvase2_sales'})\n",
    "\n",
    "df_extra_1 = df_extra_1.reset_index(drop=True)\n",
    "\n",
    "print(df_extra_1.isna().sum().sum())\n",
    "display(df_extra_1.head(1))"
   ]
  },
  {
   "cell_type": "code",
   "execution_count": 61,
   "metadata": {},
   "outputs": [],
   "source": [
    "fp_output = '../tablones/ventas_extra_1.pkl'    \n",
    "store_pickle(fp_output, df_extra_1)"
   ]
  },
  {
   "cell_type": "code",
   "execution_count": 54,
   "metadata": {},
   "outputs": [
    {
     "data": {
      "text/plain": [
       "1808"
      ]
     },
     "execution_count": 54,
     "metadata": {},
     "output_type": "execute_result"
    }
   ],
   "source": [
    "len(df_extra_1)"
   ]
  },
  {
   "cell_type": "code",
   "execution_count": 53,
   "metadata": {},
   "outputs": [
    {
     "name": "stdout",
     "output_type": "stream",
     "text": [
      "0\n"
     ]
    },
    {
     "data": {
      "text/html": [
       "<div>\n",
       "<style scoped>\n",
       "    .dataframe tbody tr th:only-of-type {\n",
       "        vertical-align: middle;\n",
       "    }\n",
       "\n",
       "    .dataframe tbody tr th {\n",
       "        vertical-align: top;\n",
       "    }\n",
       "\n",
       "    .dataframe thead th {\n",
       "        text-align: right;\n",
       "    }\n",
       "</style>\n",
       "<table border=\"1\" class=\"dataframe\">\n",
       "  <thead>\n",
       "    <tr style=\"text-align: right;\">\n",
       "      <th>SegmentoPrecio</th>\n",
       "      <th>month_year</th>\n",
       "      <th>Marca</th>\n",
       "      <th>Cupo</th>\n",
       "      <th>Segmento_1_sales</th>\n",
       "      <th>Segmento_2_sales</th>\n",
       "      <th>Segmento_3_sales</th>\n",
       "      <th>Segmento_5_sales</th>\n",
       "    </tr>\n",
       "  </thead>\n",
       "  <tbody>\n",
       "    <tr>\n",
       "      <th>0</th>\n",
       "      <td>2018-01</td>\n",
       "      <td>2</td>\n",
       "      <td>5.0</td>\n",
       "      <td>1</td>\n",
       "      <td>0</td>\n",
       "      <td>0</td>\n",
       "      <td>0</td>\n",
       "    </tr>\n",
       "    <tr>\n",
       "      <th>1</th>\n",
       "      <td>2018-01</td>\n",
       "      <td>2</td>\n",
       "      <td>10.0</td>\n",
       "      <td>452</td>\n",
       "      <td>0</td>\n",
       "      <td>0</td>\n",
       "      <td>0</td>\n",
       "    </tr>\n",
       "    <tr>\n",
       "      <th>2</th>\n",
       "      <td>2018-01</td>\n",
       "      <td>2</td>\n",
       "      <td>16.0</td>\n",
       "      <td>5932</td>\n",
       "      <td>0</td>\n",
       "      <td>0</td>\n",
       "      <td>0</td>\n",
       "    </tr>\n",
       "    <tr>\n",
       "      <th>3</th>\n",
       "      <td>2018-01</td>\n",
       "      <td>2</td>\n",
       "      <td>19.0</td>\n",
       "      <td>2119</td>\n",
       "      <td>0</td>\n",
       "      <td>0</td>\n",
       "      <td>0</td>\n",
       "    </tr>\n",
       "    <tr>\n",
       "      <th>4</th>\n",
       "      <td>2018-01</td>\n",
       "      <td>2</td>\n",
       "      <td>23.0</td>\n",
       "      <td>160</td>\n",
       "      <td>0</td>\n",
       "      <td>0</td>\n",
       "      <td>0</td>\n",
       "    </tr>\n",
       "  </tbody>\n",
       "</table>\n",
       "</div>"
      ],
      "text/plain": [
       "SegmentoPrecio month_year  Marca  Cupo  Segmento_1_sales  Segmento_2_sales  \\\n",
       "0                 2018-01      2   5.0                 1                 0   \n",
       "1                 2018-01      2  10.0               452                 0   \n",
       "2                 2018-01      2  16.0              5932                 0   \n",
       "3                 2018-01      2  19.0              2119                 0   \n",
       "4                 2018-01      2  23.0               160                 0   \n",
       "\n",
       "SegmentoPrecio  Segmento_3_sales  Segmento_5_sales  \n",
       "0                              0                 0  \n",
       "1                              0                 0  \n",
       "2                              0                 0  \n",
       "3                              0                 0  \n",
       "4                              0                 0  "
      ]
     },
     "metadata": {},
     "output_type": "display_data"
    }
   ],
   "source": [
    "df_extra_2 = df_sales_mini_2\\\n",
    "  .groupby(['month_year', 'Marca', 'Cupo', 'SegmentoPrecio'])\\\n",
    "  .size().unstack(fill_value=0)\\\n",
    "  .reset_index()\n",
    "df_extra_2.head(1)\n",
    "df_extra_2 = df_extra_2.rename(columns = {\n",
    "  1.0 : 'Segmento_1_sales',\n",
    "  2.0: 'Segmento_2_sales',\n",
    "  3.0: 'Segmento_3_sales',\n",
    "  4.0: 'Segmento_5_sales',\n",
    "})\n",
    "print(df_extra_2.isna().sum().sum())\n",
    "display(df_extra_2.head(5))"
   ]
  },
  {
   "cell_type": "code",
   "execution_count": 62,
   "metadata": {},
   "outputs": [],
   "source": [
    "fp_output = '../tablones/ventas_extra_2.pkl'    \n",
    "store_pickle(fp_output, df_extra_2)"
   ]
  },
  {
   "cell_type": "code",
   "execution_count": 55,
   "metadata": {},
   "outputs": [
    {
     "data": {
      "text/plain": [
       "1808"
      ]
     },
     "execution_count": 55,
     "metadata": {},
     "output_type": "execute_result"
    }
   ],
   "source": [
    "len(df_extra_2)"
   ]
  },
  {
   "cell_type": "code",
   "execution_count": null,
   "metadata": {},
   "outputs": [],
   "source": [
    "# df_extra = df_extra.groupby(['Cliente', 'month_year', 'producto']).size().unstack(fill_value=0)\\\n",
    "#                            .reset_index()\n",
    "# df_extra['29_9']  = df_extra['29_9'].apply(lambda x: 1 if x>0 else 0)\n",
    "# df_extra['39_20'] = df_extra['39_20'].apply(lambda x:1 if x>0 else 0)\n",
    "# df_extra['40_16'] = df_extra['40_16'].apply(lambda x:1 if x>0 else 0)"
   ]
  },
  {
   "cell_type": "code",
   "execution_count": null,
   "metadata": {},
   "outputs": [],
   "source": []
  },
  {
   "cell_type": "code",
   "execution_count": null,
   "metadata": {},
   "outputs": [],
   "source": []
  },
  {
   "cell_type": "code",
   "execution_count": null,
   "metadata": {},
   "outputs": [],
   "source": []
  },
  {
   "cell_type": "code",
   "execution_count": null,
   "metadata": {},
   "outputs": [],
   "source": []
  },
  {
   "cell_type": "code",
   "execution_count": null,
   "metadata": {},
   "outputs": [],
   "source": []
  },
  {
   "cell_type": "code",
   "execution_count": null,
   "metadata": {},
   "outputs": [],
   "source": []
  },
  {
   "cell_type": "code",
   "execution_count": null,
   "metadata": {},
   "outputs": [],
   "source": []
  },
  {
   "cell_type": "code",
   "execution_count": null,
   "metadata": {},
   "outputs": [],
   "source": []
  },
  {
   "cell_type": "code",
   "execution_count": null,
   "metadata": {},
   "outputs": [],
   "source": []
  },
  {
   "cell_type": "code",
   "execution_count": null,
   "metadata": {},
   "outputs": [],
   "source": []
  },
  {
   "cell_type": "code",
   "execution_count": null,
   "metadata": {},
   "outputs": [],
   "source": []
  },
  {
   "cell_type": "code",
   "execution_count": null,
   "metadata": {},
   "outputs": [],
   "source": []
  }
 ],
 "metadata": {
  "kernelspec": {
   "display_name": "Python 3",
   "language": "python",
   "name": "python3"
  },
  "language_info": {
   "codemirror_mode": {
    "name": "ipython",
    "version": 3
   },
   "file_extension": ".py",
   "mimetype": "text/x-python",
   "name": "python",
   "nbconvert_exporter": "python",
   "pygments_lexer": "ipython3",
   "version": "3.8.2"
  }
 },
 "nbformat": 4,
 "nbformat_minor": 4
}
