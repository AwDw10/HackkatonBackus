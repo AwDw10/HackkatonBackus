{
 "cells": [
  {
   "cell_type": "code",
   "execution_count": 1,
   "metadata": {},
   "outputs": [],
   "source": [
    "import pandas as pd\n",
    "import numpy as np\n",
    "import copy\n",
    "import pickle \n",
    "\n",
    "pd.options.display.max_columns = 200\n",
    "pd.options.display.max_columns = 200"
   ]
  },
  {
   "cell_type": "code",
   "execution_count": 2,
   "metadata": {},
   "outputs": [],
   "source": [
    "fp_sales = '../data/sales.csv'\n",
    "df_sales = pd.read_csv(fp_sales, encoding='ISO-8859-1', sep=',')"
   ]
  },
  {
   "cell_type": "code",
   "execution_count": 3,
   "metadata": {
    "scrolled": true
   },
   "outputs": [
    {
     "data": {
      "text/html": [
       "<div>\n",
       "<style scoped>\n",
       "    .dataframe tbody tr th:only-of-type {\n",
       "        vertical-align: middle;\n",
       "    }\n",
       "\n",
       "    .dataframe tbody tr th {\n",
       "        vertical-align: top;\n",
       "    }\n",
       "\n",
       "    .dataframe thead th {\n",
       "        text-align: right;\n",
       "    }\n",
       "</style>\n",
       "<table border=\"1\" class=\"dataframe\">\n",
       "  <thead>\n",
       "    <tr style=\"text-align: right;\">\n",
       "      <th></th>\n",
       "      <th>Cliente</th>\n",
       "      <th>Año</th>\n",
       "      <th>Mes</th>\n",
       "      <th>ClaseEnvase</th>\n",
       "      <th>SegmentoPrecio</th>\n",
       "      <th>Marca</th>\n",
       "      <th>Cupo</th>\n",
       "      <th>Nr</th>\n",
       "      <th>Hl</th>\n",
       "      <th>Dcto</th>\n",
       "    </tr>\n",
       "  </thead>\n",
       "  <tbody>\n",
       "    <tr>\n",
       "      <th>0</th>\n",
       "      <td>1</td>\n",
       "      <td>2018</td>\n",
       "      <td>1</td>\n",
       "      <td>2</td>\n",
       "      <td>2.0</td>\n",
       "      <td>44</td>\n",
       "      <td>10.0</td>\n",
       "      <td>6352.94</td>\n",
       "      <td>0.03</td>\n",
       "      <td>0.0</td>\n",
       "    </tr>\n",
       "  </tbody>\n",
       "</table>\n",
       "</div>"
      ],
      "text/plain": [
       "   Cliente   Año  Mes  ClaseEnvase  SegmentoPrecio  Marca  Cupo       Nr  \\\n",
       "0        1  2018    1            2             2.0     44  10.0  6352.94   \n",
       "\n",
       "     Hl  Dcto  \n",
       "0  0.03   0.0  "
      ]
     },
     "execution_count": 3,
     "metadata": {},
     "output_type": "execute_result"
    }
   ],
   "source": [
    "df_sales.head(1)"
   ]
  },
  {
   "cell_type": "code",
   "execution_count": 4,
   "metadata": {},
   "outputs": [
    {
     "data": {
      "text/plain": [
       "Cliente           0\n",
       "Año               0\n",
       "Mes               0\n",
       "ClaseEnvase       0\n",
       "SegmentoPrecio    5\n",
       "Marca             0\n",
       "Cupo              5\n",
       "Nr                0\n",
       "Hl                0\n",
       "Dcto              0\n",
       "dtype: int64"
      ]
     },
     "execution_count": 4,
     "metadata": {},
     "output_type": "execute_result"
    }
   ],
   "source": [
    "df_sales.isna().sum()"
   ]
  },
  {
   "cell_type": "code",
   "execution_count": null,
   "metadata": {},
   "outputs": [],
   "source": []
  },
  {
   "cell_type": "code",
   "execution_count": 5,
   "metadata": {},
   "outputs": [],
   "source": [
    "df_sales = df_sales.dropna()"
   ]
  },
  {
   "cell_type": "code",
   "execution_count": 6,
   "metadata": {},
   "outputs": [
    {
     "data": {
      "text/html": [
       "<div>\n",
       "<style scoped>\n",
       "    .dataframe tbody tr th:only-of-type {\n",
       "        vertical-align: middle;\n",
       "    }\n",
       "\n",
       "    .dataframe tbody tr th {\n",
       "        vertical-align: top;\n",
       "    }\n",
       "\n",
       "    .dataframe thead th {\n",
       "        text-align: right;\n",
       "    }\n",
       "</style>\n",
       "<table border=\"1\" class=\"dataframe\">\n",
       "  <thead>\n",
       "    <tr style=\"text-align: right;\">\n",
       "      <th></th>\n",
       "      <th>Cliente</th>\n",
       "      <th>Año</th>\n",
       "      <th>Mes</th>\n",
       "      <th>ClaseEnvase</th>\n",
       "      <th>SegmentoPrecio</th>\n",
       "      <th>Marca</th>\n",
       "      <th>Cupo</th>\n",
       "      <th>Nr</th>\n",
       "      <th>Hl</th>\n",
       "      <th>Dcto</th>\n",
       "    </tr>\n",
       "  </thead>\n",
       "  <tbody>\n",
       "    <tr>\n",
       "      <th>0</th>\n",
       "      <td>1</td>\n",
       "      <td>2018</td>\n",
       "      <td>01</td>\n",
       "      <td>2</td>\n",
       "      <td>2.0</td>\n",
       "      <td>44</td>\n",
       "      <td>10.0</td>\n",
       "      <td>6352.94</td>\n",
       "      <td>0.03</td>\n",
       "      <td>0.0</td>\n",
       "    </tr>\n",
       "  </tbody>\n",
       "</table>\n",
       "</div>"
      ],
      "text/plain": [
       "   Cliente   Año Mes  ClaseEnvase  SegmentoPrecio  Marca  Cupo       Nr    Hl  \\\n",
       "0        1  2018  01            2             2.0     44  10.0  6352.94  0.03   \n",
       "\n",
       "   Dcto  \n",
       "0   0.0  "
      ]
     },
     "execution_count": 6,
     "metadata": {},
     "output_type": "execute_result"
    }
   ],
   "source": [
    "#Convertir anio, mes a string\n",
    "df_sales['Año'] = df_sales['Año'].astype(str)\n",
    "df_sales['Mes'] = df_sales['Mes'].astype(str)\n",
    "df_sales[\"Mes\"] = df_sales['Mes'].str.zfill(width=2)\n",
    "df_sales.head(1)"
   ]
  },
  {
   "cell_type": "code",
   "execution_count": 7,
   "metadata": {
    "scrolled": true
   },
   "outputs": [
    {
     "data": {
      "text/html": [
       "<div>\n",
       "<style scoped>\n",
       "    .dataframe tbody tr th:only-of-type {\n",
       "        vertical-align: middle;\n",
       "    }\n",
       "\n",
       "    .dataframe tbody tr th {\n",
       "        vertical-align: top;\n",
       "    }\n",
       "\n",
       "    .dataframe thead th {\n",
       "        text-align: right;\n",
       "    }\n",
       "</style>\n",
       "<table border=\"1\" class=\"dataframe\">\n",
       "  <thead>\n",
       "    <tr style=\"text-align: right;\">\n",
       "      <th></th>\n",
       "      <th>Cliente</th>\n",
       "      <th>Año</th>\n",
       "      <th>Mes</th>\n",
       "      <th>ClaseEnvase</th>\n",
       "      <th>SegmentoPrecio</th>\n",
       "      <th>Marca</th>\n",
       "      <th>Cupo</th>\n",
       "      <th>Nr</th>\n",
       "      <th>Hl</th>\n",
       "      <th>Dcto</th>\n",
       "      <th>periodo</th>\n",
       "    </tr>\n",
       "  </thead>\n",
       "  <tbody>\n",
       "    <tr>\n",
       "      <th>0</th>\n",
       "      <td>1</td>\n",
       "      <td>2018</td>\n",
       "      <td>01</td>\n",
       "      <td>2</td>\n",
       "      <td>2.0</td>\n",
       "      <td>44</td>\n",
       "      <td>10.0</td>\n",
       "      <td>6352.94</td>\n",
       "      <td>0.03</td>\n",
       "      <td>0.0</td>\n",
       "      <td>2018-01-01</td>\n",
       "    </tr>\n",
       "    <tr>\n",
       "      <th>1</th>\n",
       "      <td>1</td>\n",
       "      <td>2018</td>\n",
       "      <td>01</td>\n",
       "      <td>2</td>\n",
       "      <td>4.0</td>\n",
       "      <td>18</td>\n",
       "      <td>16.0</td>\n",
       "      <td>99130.50</td>\n",
       "      <td>0.45</td>\n",
       "      <td>0.0</td>\n",
       "      <td>2018-01-01</td>\n",
       "    </tr>\n",
       "    <tr>\n",
       "      <th>2</th>\n",
       "      <td>1</td>\n",
       "      <td>2018</td>\n",
       "      <td>06</td>\n",
       "      <td>2</td>\n",
       "      <td>1.0</td>\n",
       "      <td>2</td>\n",
       "      <td>6.0</td>\n",
       "      <td>11605.40</td>\n",
       "      <td>0.07</td>\n",
       "      <td>-2880.0</td>\n",
       "      <td>2018-06-01</td>\n",
       "    </tr>\n",
       "    <tr>\n",
       "      <th>3</th>\n",
       "      <td>1</td>\n",
       "      <td>2018</td>\n",
       "      <td>07</td>\n",
       "      <td>1</td>\n",
       "      <td>2.0</td>\n",
       "      <td>37</td>\n",
       "      <td>34.0</td>\n",
       "      <td>1944.01</td>\n",
       "      <td>0.01</td>\n",
       "      <td>0.0</td>\n",
       "      <td>2018-07-01</td>\n",
       "    </tr>\n",
       "    <tr>\n",
       "      <th>4</th>\n",
       "      <td>1</td>\n",
       "      <td>2018</td>\n",
       "      <td>08</td>\n",
       "      <td>2</td>\n",
       "      <td>1.0</td>\n",
       "      <td>2</td>\n",
       "      <td>16.0</td>\n",
       "      <td>16250.18</td>\n",
       "      <td>0.06</td>\n",
       "      <td>0.0</td>\n",
       "      <td>2018-08-01</td>\n",
       "    </tr>\n",
       "  </tbody>\n",
       "</table>\n",
       "</div>"
      ],
      "text/plain": [
       "   Cliente   Año Mes  ClaseEnvase  SegmentoPrecio  Marca  Cupo        Nr  \\\n",
       "0        1  2018  01            2             2.0     44  10.0   6352.94   \n",
       "1        1  2018  01            2             4.0     18  16.0  99130.50   \n",
       "2        1  2018  06            2             1.0      2   6.0  11605.40   \n",
       "3        1  2018  07            1             2.0     37  34.0   1944.01   \n",
       "4        1  2018  08            2             1.0      2  16.0  16250.18   \n",
       "\n",
       "     Hl    Dcto    periodo  \n",
       "0  0.03     0.0 2018-01-01  \n",
       "1  0.45     0.0 2018-01-01  \n",
       "2  0.07 -2880.0 2018-06-01  \n",
       "3  0.01     0.0 2018-07-01  \n",
       "4  0.06     0.0 2018-08-01  "
      ]
     },
     "execution_count": 7,
     "metadata": {},
     "output_type": "execute_result"
    }
   ],
   "source": [
    "# Unir Anio, Mes en una columna datetime\n",
    "df_sales['periodo'] = pd.to_datetime([f'{y}-{m}-01' for y, m in zip(df_sales[\"Año\"], df_sales.Mes)])\n",
    "df_sales.head(5)"
   ]
  },
  {
   "cell_type": "code",
   "execution_count": 8,
   "metadata": {},
   "outputs": [
    {
     "data": {
      "text/plain": [
       "[numpy.datetime64('2018-01-01T00:00:00.000000000'),\n",
       " numpy.datetime64('2018-02-01T00:00:00.000000000'),\n",
       " numpy.datetime64('2018-03-01T00:00:00.000000000'),\n",
       " numpy.datetime64('2018-04-01T00:00:00.000000000'),\n",
       " numpy.datetime64('2018-05-01T00:00:00.000000000'),\n",
       " numpy.datetime64('2018-06-01T00:00:00.000000000'),\n",
       " numpy.datetime64('2018-07-01T00:00:00.000000000'),\n",
       " numpy.datetime64('2018-08-01T00:00:00.000000000'),\n",
       " numpy.datetime64('2018-09-01T00:00:00.000000000'),\n",
       " numpy.datetime64('2018-10-01T00:00:00.000000000'),\n",
       " numpy.datetime64('2018-11-01T00:00:00.000000000'),\n",
       " numpy.datetime64('2018-12-01T00:00:00.000000000'),\n",
       " numpy.datetime64('2019-01-01T00:00:00.000000000'),\n",
       " numpy.datetime64('2019-02-01T00:00:00.000000000'),\n",
       " numpy.datetime64('2019-03-01T00:00:00.000000000'),\n",
       " numpy.datetime64('2019-04-01T00:00:00.000000000'),\n",
       " numpy.datetime64('2019-05-01T00:00:00.000000000'),\n",
       " numpy.datetime64('2019-06-01T00:00:00.000000000'),\n",
       " numpy.datetime64('2019-07-01T00:00:00.000000000'),\n",
       " numpy.datetime64('2019-08-01T00:00:00.000000000')]"
      ]
     },
     "execution_count": 8,
     "metadata": {},
     "output_type": "execute_result"
    }
   ],
   "source": [
    "fechas_sales = list(df_sales['periodo'].unique())\n",
    "fechas_sales.sort()\n",
    "fechas_sales"
   ]
  },
  {
   "cell_type": "code",
   "execution_count": 9,
   "metadata": {},
   "outputs": [
    {
     "data": {
      "text/html": [
       "<div>\n",
       "<style scoped>\n",
       "    .dataframe tbody tr th:only-of-type {\n",
       "        vertical-align: middle;\n",
       "    }\n",
       "\n",
       "    .dataframe tbody tr th {\n",
       "        vertical-align: top;\n",
       "    }\n",
       "\n",
       "    .dataframe thead th {\n",
       "        text-align: right;\n",
       "    }\n",
       "</style>\n",
       "<table border=\"1\" class=\"dataframe\">\n",
       "  <thead>\n",
       "    <tr style=\"text-align: right;\">\n",
       "      <th></th>\n",
       "      <th>periodo</th>\n",
       "      <th>Cliente</th>\n",
       "    </tr>\n",
       "  </thead>\n",
       "  <tbody>\n",
       "    <tr>\n",
       "      <th>0</th>\n",
       "      <td>2018-01-01</td>\n",
       "      <td>1</td>\n",
       "    </tr>\n",
       "  </tbody>\n",
       "</table>\n",
       "</div>"
      ],
      "text/plain": [
       "     periodo  Cliente\n",
       "0 2018-01-01        1"
      ]
     },
     "execution_count": 9,
     "metadata": {},
     "output_type": "execute_result"
    }
   ],
   "source": [
    "# Modificar ventas de tal manera que un cliente siempre tenga una fila para todos los periodos\n",
    "# Llenaremos Nr, Hl, Dcto con  0.0\n",
    "# Esto es valido porque no estamos utilizando ClaseEnvase, SegmentoPrecio, MarcaCupo\n",
    "l_unique_periodo = list(df_sales['periodo'].unique())\n",
    "l_unique_cliente = list(df_sales['Cliente'].unique())\n",
    "\n",
    "\n",
    "l_unique_periodo_fin = l_unique_periodo * len(l_unique_cliente)\n",
    "l_unique_cliente_fin = [[cliente]*len(l_unique_periodo) for cliente in l_unique_cliente]\n",
    "#flatten\n",
    "l_unique_cliente_fin = [item for sublist in l_unique_cliente_fin for item in sublist]\n",
    "\n",
    "#l_unique_cliente = [[cliente]*len(l_unique_periodo) for cliente in l_unique_cliente]\n",
    "\n",
    "# Creamos un dataframe lienzo\n",
    "df_sales_base = pd.DataFrame(\n",
    "  list(zip(l_unique_periodo_fin, l_unique_cliente_fin)),\n",
    "  columns = ['periodo', 'Cliente']\n",
    ")\n",
    "df_sales_base.head(1)"
   ]
  },
  {
   "cell_type": "code",
   "execution_count": 10,
   "metadata": {},
   "outputs": [],
   "source": [
    "# Revisar que tenemos todos los casos contemplados\n",
    "#len(df_sales_complete) / (len(l_unique_periodo) * len(l_unique_cliente))"
   ]
  },
  {
   "cell_type": "code",
   "execution_count": 11,
   "metadata": {},
   "outputs": [],
   "source": [
    "# A este lienzo le agregamos toda la info que existe verdaderamente"
   ]
  },
  {
   "cell_type": "code",
   "execution_count": 12,
   "metadata": {},
   "outputs": [
    {
     "name": "stdout",
     "output_type": "stream",
     "text": [
      "Longitud antes: 301380\n",
      "Longitud despues: 1960141\n"
     ]
    },
    {
     "data": {
      "text/html": [
       "<div>\n",
       "<style scoped>\n",
       "    .dataframe tbody tr th:only-of-type {\n",
       "        vertical-align: middle;\n",
       "    }\n",
       "\n",
       "    .dataframe tbody tr th {\n",
       "        vertical-align: top;\n",
       "    }\n",
       "\n",
       "    .dataframe thead th {\n",
       "        text-align: right;\n",
       "    }\n",
       "</style>\n",
       "<table border=\"1\" class=\"dataframe\">\n",
       "  <thead>\n",
       "    <tr style=\"text-align: right;\">\n",
       "      <th></th>\n",
       "      <th>periodo</th>\n",
       "      <th>Cliente</th>\n",
       "      <th>Año</th>\n",
       "      <th>Mes</th>\n",
       "      <th>ClaseEnvase</th>\n",
       "      <th>SegmentoPrecio</th>\n",
       "      <th>Marca</th>\n",
       "      <th>Cupo</th>\n",
       "      <th>Nr</th>\n",
       "      <th>Hl</th>\n",
       "      <th>Dcto</th>\n",
       "    </tr>\n",
       "  </thead>\n",
       "  <tbody>\n",
       "    <tr>\n",
       "      <th>0</th>\n",
       "      <td>2018-01-01</td>\n",
       "      <td>1</td>\n",
       "      <td>2018</td>\n",
       "      <td>01</td>\n",
       "      <td>2.0</td>\n",
       "      <td>2.0</td>\n",
       "      <td>44.0</td>\n",
       "      <td>10.0</td>\n",
       "      <td>6352.94</td>\n",
       "      <td>0.03</td>\n",
       "      <td>0.0</td>\n",
       "    </tr>\n",
       "  </tbody>\n",
       "</table>\n",
       "</div>"
      ],
      "text/plain": [
       "     periodo  Cliente   Año Mes  ClaseEnvase  SegmentoPrecio  Marca  Cupo  \\\n",
       "0 2018-01-01        1  2018  01          2.0             2.0   44.0  10.0   \n",
       "\n",
       "        Nr    Hl  Dcto  \n",
       "0  6352.94  0.03   0.0  "
      ]
     },
     "execution_count": 12,
     "metadata": {},
     "output_type": "execute_result"
    }
   ],
   "source": [
    "print(f\"Longitud antes: {len(df_sales_base)}\")\n",
    "df_sales_complete = pd.merge( df_sales_base, df_sales, how='left', on=['periodo', 'Cliente'])\n",
    "print(f\"Longitud despues: {len(df_sales_complete)}\")\n",
    "df_sales_complete.head(1)"
   ]
  },
  {
   "cell_type": "code",
   "execution_count": 13,
   "metadata": {},
   "outputs": [
    {
     "data": {
      "text/plain": [
       "periodo               0\n",
       "Cliente               0\n",
       "Año               65894\n",
       "Mes               65894\n",
       "ClaseEnvase       65894\n",
       "SegmentoPrecio    65894\n",
       "Marca             65894\n",
       "Cupo              65894\n",
       "Nr                65894\n",
       "Hl                65894\n",
       "Dcto              65894\n",
       "dtype: int64"
      ]
     },
     "execution_count": 13,
     "metadata": {},
     "output_type": "execute_result"
    }
   ],
   "source": [
    "df_sales_complete.isna().sum()"
   ]
  },
  {
   "cell_type": "code",
   "execution_count": 14,
   "metadata": {},
   "outputs": [
    {
     "data": {
      "text/plain": [
       "periodo           datetime64[ns]\n",
       "Cliente                    int64\n",
       "Año                       object\n",
       "Mes                       object\n",
       "ClaseEnvase              float64\n",
       "SegmentoPrecio           float64\n",
       "Marca                    float64\n",
       "Cupo                     float64\n",
       "Nr                       float64\n",
       "Hl                       float64\n",
       "Dcto                     float64\n",
       "dtype: object"
      ]
     },
     "execution_count": 14,
     "metadata": {},
     "output_type": "execute_result"
    }
   ],
   "source": [
    "df_sales_complete.dtypes"
   ]
  },
  {
   "cell_type": "code",
   "execution_count": 15,
   "metadata": {},
   "outputs": [],
   "source": [
    "# Completamos nan\n",
    "df_sales_complete['ClaseEnvase'] = df_sales_complete['ClaseEnvase'].fillna(99)\n",
    "df_sales_complete['SegmentoPrecio'] = df_sales_complete['SegmentoPrecio'].fillna(99)\n",
    "df_sales_complete['Marca'] = df_sales_complete['Marca'].fillna(99)\n",
    "df_sales_complete['Cupo'] = df_sales_complete['Cupo'].fillna(99)\n",
    "\n",
    "# df_sales_complete['Nr'] = df_sales_complete['Nr'].fillna(0)\n",
    "# df_sales_complete['Hl'] = df_sales_complete['Hl'].fillna(0)\n",
    "# df_sales_complete['Dcto'] = df_sales_complete['Dcto'].fillna(0)"
   ]
  },
  {
   "cell_type": "code",
   "execution_count": 16,
   "metadata": {},
   "outputs": [
    {
     "data": {
      "text/html": [
       "<div>\n",
       "<style scoped>\n",
       "    .dataframe tbody tr th:only-of-type {\n",
       "        vertical-align: middle;\n",
       "    }\n",
       "\n",
       "    .dataframe tbody tr th {\n",
       "        vertical-align: top;\n",
       "    }\n",
       "\n",
       "    .dataframe thead th {\n",
       "        text-align: right;\n",
       "    }\n",
       "</style>\n",
       "<table border=\"1\" class=\"dataframe\">\n",
       "  <thead>\n",
       "    <tr style=\"text-align: right;\">\n",
       "      <th></th>\n",
       "      <th>periodo</th>\n",
       "      <th>Cliente</th>\n",
       "      <th>Año</th>\n",
       "      <th>Mes</th>\n",
       "      <th>ClaseEnvase</th>\n",
       "      <th>SegmentoPrecio</th>\n",
       "      <th>Marca</th>\n",
       "      <th>Cupo</th>\n",
       "      <th>Nr</th>\n",
       "      <th>Hl</th>\n",
       "      <th>Dcto</th>\n",
       "    </tr>\n",
       "  </thead>\n",
       "  <tbody>\n",
       "    <tr>\n",
       "      <th>0</th>\n",
       "      <td>2018-01-01</td>\n",
       "      <td>1</td>\n",
       "      <td>2018</td>\n",
       "      <td>01</td>\n",
       "      <td>2.0</td>\n",
       "      <td>2.0</td>\n",
       "      <td>44.0</td>\n",
       "      <td>10.0</td>\n",
       "      <td>6352.94</td>\n",
       "      <td>0.03</td>\n",
       "      <td>0.0</td>\n",
       "    </tr>\n",
       "  </tbody>\n",
       "</table>\n",
       "</div>"
      ],
      "text/plain": [
       "     periodo  Cliente   Año Mes  ClaseEnvase  SegmentoPrecio  Marca  Cupo  \\\n",
       "0 2018-01-01        1  2018  01          2.0             2.0   44.0  10.0   \n",
       "\n",
       "        Nr    Hl  Dcto  \n",
       "0  6352.94  0.03   0.0  "
      ]
     },
     "execution_count": 16,
     "metadata": {},
     "output_type": "execute_result"
    }
   ],
   "source": [
    "df_sales_complete.head(1)"
   ]
  },
  {
   "cell_type": "code",
   "execution_count": 17,
   "metadata": {},
   "outputs": [
    {
     "data": {
      "text/plain": [
       "periodo               0\n",
       "Cliente               0\n",
       "Año               65894\n",
       "Mes               65894\n",
       "ClaseEnvase           0\n",
       "SegmentoPrecio        0\n",
       "Marca                 0\n",
       "Cupo                  0\n",
       "Nr                65894\n",
       "Hl                65894\n",
       "Dcto              65894\n",
       "dtype: int64"
      ]
     },
     "execution_count": 17,
     "metadata": {},
     "output_type": "execute_result"
    }
   ],
   "source": [
    "df_sales_complete.isna().sum()"
   ]
  },
  {
   "cell_type": "code",
   "execution_count": 18,
   "metadata": {},
   "outputs": [
    {
     "data": {
      "text/html": [
       "<div>\n",
       "<style scoped>\n",
       "    .dataframe tbody tr th:only-of-type {\n",
       "        vertical-align: middle;\n",
       "    }\n",
       "\n",
       "    .dataframe tbody tr th {\n",
       "        vertical-align: top;\n",
       "    }\n",
       "\n",
       "    .dataframe thead th {\n",
       "        text-align: right;\n",
       "    }\n",
       "</style>\n",
       "<table border=\"1\" class=\"dataframe\">\n",
       "  <thead>\n",
       "    <tr style=\"text-align: right;\">\n",
       "      <th></th>\n",
       "      <th>Mes</th>\n",
       "    </tr>\n",
       "    <tr>\n",
       "      <th>Cliente</th>\n",
       "      <th></th>\n",
       "    </tr>\n",
       "  </thead>\n",
       "  <tbody>\n",
       "    <tr>\n",
       "      <th>1</th>\n",
       "      <td>179</td>\n",
       "    </tr>\n",
       "    <tr>\n",
       "      <th>2</th>\n",
       "      <td>180</td>\n",
       "    </tr>\n",
       "    <tr>\n",
       "      <th>3</th>\n",
       "      <td>100</td>\n",
       "    </tr>\n",
       "    <tr>\n",
       "      <th>4</th>\n",
       "      <td>139</td>\n",
       "    </tr>\n",
       "    <tr>\n",
       "      <th>5</th>\n",
       "      <td>37</td>\n",
       "    </tr>\n",
       "    <tr>\n",
       "      <th>...</th>\n",
       "      <td>...</td>\n",
       "    </tr>\n",
       "    <tr>\n",
       "      <th>15065</th>\n",
       "      <td>39</td>\n",
       "    </tr>\n",
       "    <tr>\n",
       "      <th>15066</th>\n",
       "      <td>63</td>\n",
       "    </tr>\n",
       "    <tr>\n",
       "      <th>15067</th>\n",
       "      <td>22</td>\n",
       "    </tr>\n",
       "    <tr>\n",
       "      <th>15068</th>\n",
       "      <td>54</td>\n",
       "    </tr>\n",
       "    <tr>\n",
       "      <th>15069</th>\n",
       "      <td>22</td>\n",
       "    </tr>\n",
       "  </tbody>\n",
       "</table>\n",
       "<p>15069 rows × 1 columns</p>\n",
       "</div>"
      ],
      "text/plain": [
       "         Mes\n",
       "Cliente     \n",
       "1        179\n",
       "2        180\n",
       "3        100\n",
       "4        139\n",
       "5         37\n",
       "...      ...\n",
       "15065     39\n",
       "15066     63\n",
       "15067     22\n",
       "15068     54\n",
       "15069     22\n",
       "\n",
       "[15069 rows x 1 columns]"
      ]
     },
     "execution_count": 18,
     "metadata": {},
     "output_type": "execute_result"
    }
   ],
   "source": [
    "df_sales_complete.groupby('Cliente').agg({'Mes': 'count'})"
   ]
  },
  {
   "cell_type": "code",
   "execution_count": 19,
   "metadata": {},
   "outputs": [],
   "source": [
    "# crear columna periodo y dropear las innecearias\n",
    "# crear agrupados por (periodo, cliente) | otra granularidad, (periodo, cliente, Marca, Cupo)\n",
    "# calcular columnas de sumas de N_r, Hl, Dcto\n",
    "# para cada una de las columnas de suma calcular el rolling_mean/sum a X periodos en el pasado\n",
    "# repertirlo para todos los periodos en el pasado que se deseen\n",
    "# llenar los nan con interpolacion / media del grupo(nivel de granularidad)\n",
    "\n",
    "def calcular_acumulados_pasado(df, lista_grupo, dict_columnas, modo='sum'):\n",
    "  \"\"\"\n",
    "  Calcula agrupado del df(sales) hacia el pasado utilizando rolling mean y agrupando por lista_grupo.\n",
    "  \n",
    "  Input:\n",
    "  ======\n",
    "  df: pd.Dataframe: tabla de ventas(tal vez se podria generalizar este utilitario)\n",
    "  lista_grupo: lista[str] : utilizados para generar los agrupados sobre los que se haran calculos\n",
    "  dict_columnas: dict{ 'key='Nr'/'Hl'/'Dcto': [x(int), y(int), z(int)]  }\n",
    "    [x, y, z] indica que se calculara el acumulado para la llave x , y, z meses en el pasado\n",
    "  \"\"\"\n",
    "  \n",
    "  # Una copia de la tabla de ventas para no incomodarnos con modificarla por error\n",
    "  c_df = copy.deepcopy(df)\n",
    "  \n",
    "  # Creamos agrupado por lista_grupo y para las llaves en dict_columnas con np.sum como valor\n",
    "  agg_dict = {k: [np.sum, 'count'] for k, _ in dict_columnas.items()}\n",
    "  # por alguna razon este np.sum no considera los nans\n",
    "  # y 'count' solo cuenta los no nan, justo lo que queremos\n",
    "  # https://stackoverflow.com/questions/42770300/summing-rows-in-grouped-pandas-dataframe-and-return-nan\n",
    "  \n",
    "  df_g1 = c_df.groupby(lista_grupo).agg(agg_dict)\n",
    "  # Completar nan con cero, estos NaN vienen de Nr, Hl, Dcto \n",
    "\n",
    "  \n",
    "  # Agregamos multiples niveles en el nombre de las columnas\n",
    "  df_g1.columns = ['_'.join(col) for col in df_g1.columns]# Nombre seran de la forma Nr_sum, Nr_count, ...\n",
    "  df_g1 = df_g1.reset_index() \n",
    "  # Comenzamos a calcular los agrupados segun dict_columnas\n",
    "  for col_name, months_past_list in dict_columnas.items():\n",
    "    for window in months_past_list:\n",
    "      if modo == 'sum':\n",
    "        rol_col_name = modo + '_' + str(window) + col_name\n",
    "        #quitamos periodo de lista grupo    \n",
    "        df_g1[rol_col_name] = df_g1.sort_values('periodo', ascending=True)\\\n",
    "                                .groupby(lista_grupo[1:])\\\n",
    "                                [col_name+'_sum'].apply(lambda x: x.rolling(window).sum())\n",
    "        #llenar nan de estos agrupados con la media del grupo\n",
    "        df_g1[rol_col_name] = df_g1.groupby(lista_grupo[1:])\\\n",
    "                                [rol_col_name].transform(lambda x: x.fillna(x.mean())) \n",
    "                                \n",
    "      elif modo == 'mean':\n",
    "        rol_col_name = modo + '_' + str(window) + col_name\n",
    "        df_g1[rol_col_name] = df_g1.sort_values('periodo', ascending=True)\\\n",
    "                                .groupby(lista_grupo[1:])\\\n",
    "                               [col_name + '_sum'].apply(lambda x: x.rolling(window).mean())\n",
    "        #llenar nan de estos agrupados con la media del grupo\n",
    "        df_g1[rol_col_name] = df_g1.groupby(lista_grupo[1:])\\\n",
    "                                [rol_col_name].transform(lambda x: x.fillna(x.mean())) \n",
    "      elif modo == 'todo':\n",
    "        # suma\n",
    "        rol_col_name = 'sum' + '_' + str(window) + col_name\n",
    "        #quitamos periodo de lista grupo    \n",
    "        df_g1[rol_col_name] = df_g1.sort_values('periodo', ascending=True)\\\n",
    "                                .groupby(lista_grupo[1:])\\\n",
    "                                [col_name+'_sum'].apply(lambda x: x.rolling(window).sum())\n",
    "        #llenar nan de estos agrupados con la media del grupo\n",
    "        df_g1[rol_col_name] = df_g1.groupby(lista_grupo[1:])\\\n",
    "                                [rol_col_name].transform(lambda x: x.fillna(x.mean()))    \n",
    "        # media\n",
    "        rol_col_name = 'mean' + '_' + str(window) + col_name\n",
    "        df_g1[rol_col_name] = df_g1.sort_values('periodo', ascending=True)\\\n",
    "                                .groupby(lista_grupo[1:])\\\n",
    "                               [col_name + '_sum'].apply(lambda x: x.rolling(window).mean())\n",
    "        #llenar nan de estos agrupados con la media del grupo\n",
    "        df_g1[rol_col_name] = df_g1.groupby(lista_grupo[1:])\\\n",
    "                                [rol_col_name].transform(lambda x: x.fillna(x.mean()))     \n",
    "      # PODRIA MEJORAR ESTO METIENDO TODO EN UN MISMO GROUPBY!\n",
    "      \n",
    "\n",
    "  return df_g1\n",
    "     "
   ]
  },
  {
   "cell_type": "code",
   "execution_count": 20,
   "metadata": {},
   "outputs": [],
   "source": [
    "def calcular_grupo_2(df, lista_grupo, dict_columnas, window_ventas_list, modo='todo'):\n",
    "  # Agregamos periodo a partir de anio y mes\n",
    "  # Convertir anio, mes a string\n",
    "  df_tg0 = copy.deepcopy(df)\n",
    "  # Dropear columnas innecesarias\n",
    "  df_tg0 = df_tg0.drop(columns=['Mes', 'Año'], axis=1)  \n",
    "  # Calculamos los acumulados segun Nr / Hl / Dcto\n",
    "  df_tg1 = calcular_acumulados_pasado(df_tg0, lista_grupo, dict_columnas, modo=modo)\n",
    "  # Agregar columna count que reemplaza a  Nr_count Hl_count Dcto_count\n",
    "  cols_count = [k + '_count' for k, _ in test_dict.items()]\n",
    "  df_tg1 = df_tg1.drop(columns = cols_count[1:], axis=1)\n",
    "  df_tg1 = df_tg1.rename(columns={cols_count[0]: 'numero_ventas'})\n",
    "  # Calcular acumulados de tiempo en el pasado\n",
    "  df_tg2 = calcular_acumulados_pasado(df_tg1, lista_grupo, {'numero_ventas': window_ventas_list}, \n",
    "                                       modo = 'todo')\n",
    "  # Eliminar numero_ventas_count\n",
    "  df_tg2 = df_tg2.drop(columns = 'numero_ventas_count', axis = 1)\n",
    "  # Juntar los dos acumulados\n",
    "  df_tg_unido = pd.merge(df_tg1, df_tg2, on = lista_grupo, how = 'left')\n",
    "  # agregar Hl/ Nr\n",
    "  return df_tg_unido"
   ]
  },
  {
   "cell_type": "code",
   "execution_count": 21,
   "metadata": {
    "scrolled": true
   },
   "outputs": [],
   "source": [
    "\n",
    "t_list = ['periodo', 'Cliente']# tambien con Marca , Cupo\n",
    "test_dict = {\n",
    "  'Nr': [2,],\n",
    "  'Hl': [2,],\n",
    "  'Dcto': [2,]\n",
    "}\n",
    "window_ventas_list = [2,]\n",
    "df_fin = calcular_grupo_2(df_sales_complete, t_list, test_dict, window_ventas_list, modo='todo')"
   ]
  },
  {
   "cell_type": "code",
   "execution_count": 22,
   "metadata": {
    "scrolled": true
   },
   "outputs": [
    {
     "data": {
      "text/html": [
       "<div>\n",
       "<style scoped>\n",
       "    .dataframe tbody tr th:only-of-type {\n",
       "        vertical-align: middle;\n",
       "    }\n",
       "\n",
       "    .dataframe tbody tr th {\n",
       "        vertical-align: top;\n",
       "    }\n",
       "\n",
       "    .dataframe thead th {\n",
       "        text-align: right;\n",
       "    }\n",
       "</style>\n",
       "<table border=\"1\" class=\"dataframe\">\n",
       "  <thead>\n",
       "    <tr style=\"text-align: right;\">\n",
       "      <th></th>\n",
       "      <th>periodo</th>\n",
       "      <th>Cliente</th>\n",
       "      <th>Nr_sum</th>\n",
       "      <th>numero_ventas</th>\n",
       "      <th>Hl_sum</th>\n",
       "      <th>Dcto_sum</th>\n",
       "      <th>sum_2Nr</th>\n",
       "      <th>mean_2Nr</th>\n",
       "      <th>sum_2Hl</th>\n",
       "      <th>mean_2Hl</th>\n",
       "      <th>sum_2Dcto</th>\n",
       "      <th>mean_2Dcto</th>\n",
       "      <th>numero_ventas_sum</th>\n",
       "      <th>sum_2numero_ventas</th>\n",
       "      <th>mean_2numero_ventas</th>\n",
       "    </tr>\n",
       "  </thead>\n",
       "  <tbody>\n",
       "    <tr>\n",
       "      <th>0</th>\n",
       "      <td>2018-01-01</td>\n",
       "      <td>1</td>\n",
       "      <td>591975.69</td>\n",
       "      <td>13</td>\n",
       "      <td>2.31</td>\n",
       "      <td>-6785.54</td>\n",
       "      <td>680049.570526</td>\n",
       "      <td>340024.785263</td>\n",
       "      <td>2.491579</td>\n",
       "      <td>1.245789</td>\n",
       "      <td>-47691.214211</td>\n",
       "      <td>-23845.607105</td>\n",
       "      <td>13</td>\n",
       "      <td>17.736842</td>\n",
       "      <td>8.868421</td>\n",
       "    </tr>\n",
       "    <tr>\n",
       "      <th>1</th>\n",
       "      <td>2018-01-01</td>\n",
       "      <td>2</td>\n",
       "      <td>482188.20</td>\n",
       "      <td>9</td>\n",
       "      <td>1.30</td>\n",
       "      <td>-9811.80</td>\n",
       "      <td>581925.716842</td>\n",
       "      <td>290962.858421</td>\n",
       "      <td>1.784211</td>\n",
       "      <td>0.892105</td>\n",
       "      <td>-46216.870526</td>\n",
       "      <td>-23108.435263</td>\n",
       "      <td>9</td>\n",
       "      <td>18.473684</td>\n",
       "      <td>9.236842</td>\n",
       "    </tr>\n",
       "    <tr>\n",
       "      <th>2</th>\n",
       "      <td>2018-01-01</td>\n",
       "      <td>3</td>\n",
       "      <td>559180.83</td>\n",
       "      <td>13</td>\n",
       "      <td>2.06</td>\n",
       "      <td>-42516.22</td>\n",
       "      <td>321979.125789</td>\n",
       "      <td>160989.562895</td>\n",
       "      <td>1.338947</td>\n",
       "      <td>0.669474</td>\n",
       "      <td>-29634.394737</td>\n",
       "      <td>-14817.197368</td>\n",
       "      <td>13</td>\n",
       "      <td>9.842105</td>\n",
       "      <td>4.921053</td>\n",
       "    </tr>\n",
       "    <tr>\n",
       "      <th>3</th>\n",
       "      <td>2018-01-01</td>\n",
       "      <td>4</td>\n",
       "      <td>400454.04</td>\n",
       "      <td>6</td>\n",
       "      <td>1.77</td>\n",
       "      <td>-4747.57</td>\n",
       "      <td>487162.189474</td>\n",
       "      <td>243581.094737</td>\n",
       "      <td>2.202632</td>\n",
       "      <td>1.101316</td>\n",
       "      <td>-47444.200526</td>\n",
       "      <td>-23722.100263</td>\n",
       "      <td>6</td>\n",
       "      <td>14.315789</td>\n",
       "      <td>7.157895</td>\n",
       "    </tr>\n",
       "    <tr>\n",
       "      <th>4</th>\n",
       "      <td>2018-01-01</td>\n",
       "      <td>5</td>\n",
       "      <td>1263011.57</td>\n",
       "      <td>6</td>\n",
       "      <td>4.64</td>\n",
       "      <td>-10131.66</td>\n",
       "      <td>995558.801579</td>\n",
       "      <td>497779.400789</td>\n",
       "      <td>3.905263</td>\n",
       "      <td>1.952632</td>\n",
       "      <td>-41319.371579</td>\n",
       "      <td>-20659.685789</td>\n",
       "      <td>6</td>\n",
       "      <td>3.578947</td>\n",
       "      <td>1.789474</td>\n",
       "    </tr>\n",
       "  </tbody>\n",
       "</table>\n",
       "</div>"
      ],
      "text/plain": [
       "     periodo  Cliente      Nr_sum  numero_ventas  Hl_sum  Dcto_sum  \\\n",
       "0 2018-01-01        1   591975.69             13    2.31  -6785.54   \n",
       "1 2018-01-01        2   482188.20              9    1.30  -9811.80   \n",
       "2 2018-01-01        3   559180.83             13    2.06 -42516.22   \n",
       "3 2018-01-01        4   400454.04              6    1.77  -4747.57   \n",
       "4 2018-01-01        5  1263011.57              6    4.64 -10131.66   \n",
       "\n",
       "         sum_2Nr       mean_2Nr   sum_2Hl  mean_2Hl     sum_2Dcto  \\\n",
       "0  680049.570526  340024.785263  2.491579  1.245789 -47691.214211   \n",
       "1  581925.716842  290962.858421  1.784211  0.892105 -46216.870526   \n",
       "2  321979.125789  160989.562895  1.338947  0.669474 -29634.394737   \n",
       "3  487162.189474  243581.094737  2.202632  1.101316 -47444.200526   \n",
       "4  995558.801579  497779.400789  3.905263  1.952632 -41319.371579   \n",
       "\n",
       "     mean_2Dcto  numero_ventas_sum  sum_2numero_ventas  mean_2numero_ventas  \n",
       "0 -23845.607105                 13           17.736842             8.868421  \n",
       "1 -23108.435263                  9           18.473684             9.236842  \n",
       "2 -14817.197368                 13            9.842105             4.921053  \n",
       "3 -23722.100263                  6           14.315789             7.157895  \n",
       "4 -20659.685789                  6            3.578947             1.789474  "
      ]
     },
     "execution_count": 22,
     "metadata": {},
     "output_type": "execute_result"
    }
   ],
   "source": [
    "df_fin.head(5)"
   ]
  },
  {
   "cell_type": "code",
   "execution_count": 23,
   "metadata": {},
   "outputs": [
    {
     "data": {
      "text/plain": [
       "periodo                0\n",
       "Cliente                0\n",
       "Nr_sum                 0\n",
       "numero_ventas          0\n",
       "Hl_sum                 0\n",
       "Dcto_sum               0\n",
       "sum_2Nr                0\n",
       "mean_2Nr               0\n",
       "sum_2Hl                0\n",
       "mean_2Hl               0\n",
       "sum_2Dcto              0\n",
       "mean_2Dcto             0\n",
       "numero_ventas_sum      0\n",
       "sum_2numero_ventas     0\n",
       "mean_2numero_ventas    0\n",
       "dtype: int64"
      ]
     },
     "execution_count": 23,
     "metadata": {},
     "output_type": "execute_result"
    }
   ],
   "source": [
    "df_fin.isna().sum()"
   ]
  },
  {
   "cell_type": "code",
   "execution_count": 24,
   "metadata": {},
   "outputs": [
    {
     "data": {
      "text/plain": [
       "301380"
      ]
     },
     "execution_count": 24,
     "metadata": {},
     "output_type": "execute_result"
    }
   ],
   "source": [
    "len(df_fin)"
   ]
  },
  {
   "cell_type": "code",
   "execution_count": 25,
   "metadata": {},
   "outputs": [],
   "source": [
    "fp_output = '../tablones/data_grupo_3.pkl'\n",
    "def store_pickle(fp, obj):\n",
    "  with open(fp, 'wb') as f:\n",
    "    pickle.dump(obj, f)\n",
    "    \n",
    "store_pickle(fp_output, df_fin)"
   ]
  },
  {
   "cell_type": "code",
   "execution_count": null,
   "metadata": {},
   "outputs": [],
   "source": []
  },
  {
   "cell_type": "code",
   "execution_count": null,
   "metadata": {},
   "outputs": [],
   "source": []
  },
  {
   "cell_type": "code",
   "execution_count": null,
   "metadata": {},
   "outputs": [],
   "source": []
  },
  {
   "cell_type": "code",
   "execution_count": null,
   "metadata": {},
   "outputs": [],
   "source": []
  },
  {
   "cell_type": "code",
   "execution_count": null,
   "metadata": {},
   "outputs": [],
   "source": []
  },
  {
   "cell_type": "code",
   "execution_count": null,
   "metadata": {},
   "outputs": [],
   "source": []
  },
  {
   "cell_type": "code",
   "execution_count": null,
   "metadata": {},
   "outputs": [],
   "source": []
  },
  {
   "cell_type": "code",
   "execution_count": null,
   "metadata": {},
   "outputs": [],
   "source": []
  },
  {
   "cell_type": "code",
   "execution_count": null,
   "metadata": {},
   "outputs": [],
   "source": []
  },
  {
   "cell_type": "code",
   "execution_count": null,
   "metadata": {},
   "outputs": [],
   "source": []
  }
 ],
 "metadata": {
  "kernelspec": {
   "display_name": "Python 3",
   "language": "python",
   "name": "python3"
  },
  "language_info": {
   "codemirror_mode": {
    "name": "ipython",
    "version": 3
   },
   "file_extension": ".py",
   "mimetype": "text/x-python",
   "name": "python",
   "nbconvert_exporter": "python",
   "pygments_lexer": "ipython3",
   "version": "3.8.2"
  }
 },
 "nbformat": 4,
 "nbformat_minor": 4
}
